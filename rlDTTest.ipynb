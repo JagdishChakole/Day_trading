{
 "cells": [
  {
   "cell_type": "code",
   "execution_count": 1,
   "metadata": {},
   "outputs": [],
   "source": [
    "from sklearn.cluster import KMeans\n",
    "import numpy as np\n",
    "import datetime\n",
    "import pandas as pd\n",
    "import random"
   ]
  },
  {
   "cell_type": "code",
   "execution_count": 2,
   "metadata": {},
   "outputs": [
    {
     "data": {
      "text/plain": [
       "2966"
      ]
     },
     "execution_count": 2,
     "metadata": {},
     "output_type": "execute_result"
    }
   ],
   "source": [
    "X=pd.read_csv('nifty.csv')\n",
    "len(X)"
   ]
  },
  {
   "cell_type": "code",
   "execution_count": 3,
   "metadata": {},
   "outputs": [],
   "source": [
    "def data1():\n",
    "    X=pd.read_csv('nifty.csv')\n",
    "    X['c-o']=(X.Close-X.Open)/X.Open*100\n",
    "    X['candle']=np.where(X['c-o'].values<-1,0,np.where(X['c-o'].values<-0.5,1,np.where(X['c-o'].values<0,2,np.where(X['c-o'].values<0.5,3,np.where(X['c-o'].values<1,4,5)))))\n",
    "    X = X.dropna(axis = 0, how ='any')\n",
    "    X = X.reset_index()\n",
    "    X['cashopen']=0\n",
    "    X['cash']=0\n",
    "    X['action']=\"\"\n",
    "    X['diff']=\"\"\n",
    "    X['quantity']=\"\"\n",
    "    return X\n",
    "    "
   ]
  },
  {
   "cell_type": "code",
   "execution_count": 4,
   "metadata": {},
   "outputs": [
    {
     "name": "stdout",
     "output_type": "stream",
     "text": [
      "2966\n"
     ]
    }
   ],
   "source": [
    "X=data1()\n",
    "print(len(X))"
   ]
  },
  {
   "cell_type": "raw",
   "metadata": {},
   "source": [
    "%matplotlib inline\n",
    "%pylab inline\n",
    "fig = plt.figure()\n",
    "ax=X.loc[1:955,'Close'].plot(grid=\"True\",figsize=(10,5), title='Nifty')\n",
    "ax.set_xlabel(\"Trading Days\")\n",
    "ax.set_ylabel(\"Close Price\")\n",
    "plt.show()\n",
    "fig.savefig('nifty_close.png')"
   ]
  },
  {
   "cell_type": "code",
   "execution_count": 5,
   "metadata": {},
   "outputs": [
    {
     "data": {
      "text/plain": [
       "2966"
      ]
     },
     "execution_count": 5,
     "metadata": {},
     "output_type": "execute_result"
    }
   ],
   "source": [
    "len(X)"
   ]
  },
  {
   "cell_type": "code",
   "execution_count": 6,
   "metadata": {},
   "outputs": [
    {
     "data": {
      "text/plain": [
       "candle\n",
       "2    848\n",
       "3    812\n",
       "1    434\n",
       "4    362\n",
       "0    298\n",
       "5    212\n",
       "Name: count, dtype: int64"
      ]
     },
     "execution_count": 6,
     "metadata": {},
     "output_type": "execute_result"
    }
   ],
   "source": [
    "X['candle'].value_counts()"
   ]
  },
  {
   "cell_type": "code",
   "execution_count": 7,
   "metadata": {},
   "outputs": [
    {
     "data": {
      "text/html": [
       "<div>\n",
       "<style scoped>\n",
       "    .dataframe tbody tr th:only-of-type {\n",
       "        vertical-align: middle;\n",
       "    }\n",
       "\n",
       "    .dataframe tbody tr th {\n",
       "        vertical-align: top;\n",
       "    }\n",
       "\n",
       "    .dataframe thead th {\n",
       "        text-align: right;\n",
       "    }\n",
       "</style>\n",
       "<table border=\"1\" class=\"dataframe\">\n",
       "  <thead>\n",
       "    <tr style=\"text-align: right;\">\n",
       "      <th></th>\n",
       "      <th>index</th>\n",
       "      <th>Unnamed: 0</th>\n",
       "      <th>date</th>\n",
       "      <th>Close</th>\n",
       "      <th>High</th>\n",
       "      <th>Low</th>\n",
       "      <th>Open</th>\n",
       "      <th>Volume</th>\n",
       "      <th>weekday</th>\n",
       "      <th>month</th>\n",
       "      <th>c-o</th>\n",
       "      <th>candle</th>\n",
       "      <th>cashopen</th>\n",
       "      <th>cash</th>\n",
       "      <th>action</th>\n",
       "      <th>diff</th>\n",
       "      <th>quantity</th>\n",
       "    </tr>\n",
       "  </thead>\n",
       "  <tbody>\n",
       "    <tr>\n",
       "      <th>0</th>\n",
       "      <td>0</td>\n",
       "      <td>0</td>\n",
       "      <td>21-01-2013</td>\n",
       "      <td>6082.299805</td>\n",
       "      <td>6094.350098</td>\n",
       "      <td>6065.100098</td>\n",
       "      <td>6085.750000</td>\n",
       "      <td>130900</td>\n",
       "      <td>0</td>\n",
       "      <td>1</td>\n",
       "      <td>-0.056693</td>\n",
       "      <td>2</td>\n",
       "      <td>0</td>\n",
       "      <td>0</td>\n",
       "      <td></td>\n",
       "      <td></td>\n",
       "      <td></td>\n",
       "    </tr>\n",
       "    <tr>\n",
       "      <th>1</th>\n",
       "      <td>1</td>\n",
       "      <td>1</td>\n",
       "      <td>22-01-2013</td>\n",
       "      <td>6048.500000</td>\n",
       "      <td>6101.299805</td>\n",
       "      <td>6040.500000</td>\n",
       "      <td>6080.149902</td>\n",
       "      <td>129000</td>\n",
       "      <td>1</td>\n",
       "      <td>1</td>\n",
       "      <td>-0.520545</td>\n",
       "      <td>1</td>\n",
       "      <td>0</td>\n",
       "      <td>0</td>\n",
       "      <td></td>\n",
       "      <td></td>\n",
       "      <td></td>\n",
       "    </tr>\n",
       "    <tr>\n",
       "      <th>2</th>\n",
       "      <td>2</td>\n",
       "      <td>2</td>\n",
       "      <td>23-01-2013</td>\n",
       "      <td>6054.299805</td>\n",
       "      <td>6069.799805</td>\n",
       "      <td>6021.149902</td>\n",
       "      <td>6052.850098</td>\n",
       "      <td>137000</td>\n",
       "      <td>2</td>\n",
       "      <td>1</td>\n",
       "      <td>0.023951</td>\n",
       "      <td>3</td>\n",
       "      <td>0</td>\n",
       "      <td>0</td>\n",
       "      <td></td>\n",
       "      <td></td>\n",
       "      <td></td>\n",
       "    </tr>\n",
       "    <tr>\n",
       "      <th>3</th>\n",
       "      <td>3</td>\n",
       "      <td>3</td>\n",
       "      <td>24-01-2013</td>\n",
       "      <td>6019.350098</td>\n",
       "      <td>6065.299805</td>\n",
       "      <td>6007.850098</td>\n",
       "      <td>6046.200195</td>\n",
       "      <td>185200</td>\n",
       "      <td>3</td>\n",
       "      <td>1</td>\n",
       "      <td>-0.444082</td>\n",
       "      <td>2</td>\n",
       "      <td>0</td>\n",
       "      <td>0</td>\n",
       "      <td></td>\n",
       "      <td></td>\n",
       "      <td></td>\n",
       "    </tr>\n",
       "    <tr>\n",
       "      <th>4</th>\n",
       "      <td>4</td>\n",
       "      <td>4</td>\n",
       "      <td>25-01-2013</td>\n",
       "      <td>6074.649902</td>\n",
       "      <td>6080.549805</td>\n",
       "      <td>6014.450195</td>\n",
       "      <td>6024.500000</td>\n",
       "      <td>147600</td>\n",
       "      <td>4</td>\n",
       "      <td>1</td>\n",
       "      <td>0.832433</td>\n",
       "      <td>4</td>\n",
       "      <td>0</td>\n",
       "      <td>0</td>\n",
       "      <td></td>\n",
       "      <td></td>\n",
       "      <td></td>\n",
       "    </tr>\n",
       "  </tbody>\n",
       "</table>\n",
       "</div>"
      ],
      "text/plain": [
       "   index  Unnamed: 0        date        Close         High          Low  \\\n",
       "0      0           0  21-01-2013  6082.299805  6094.350098  6065.100098   \n",
       "1      1           1  22-01-2013  6048.500000  6101.299805  6040.500000   \n",
       "2      2           2  23-01-2013  6054.299805  6069.799805  6021.149902   \n",
       "3      3           3  24-01-2013  6019.350098  6065.299805  6007.850098   \n",
       "4      4           4  25-01-2013  6074.649902  6080.549805  6014.450195   \n",
       "\n",
       "          Open  Volume  weekday  month       c-o  candle  cashopen  cash  \\\n",
       "0  6085.750000  130900        0      1 -0.056693       2         0     0   \n",
       "1  6080.149902  129000        1      1 -0.520545       1         0     0   \n",
       "2  6052.850098  137000        2      1  0.023951       3         0     0   \n",
       "3  6046.200195  185200        3      1 -0.444082       2         0     0   \n",
       "4  6024.500000  147600        4      1  0.832433       4         0     0   \n",
       "\n",
       "  action diff quantity  \n",
       "0                       \n",
       "1                       \n",
       "2                       \n",
       "3                       \n",
       "4                       "
      ]
     },
     "execution_count": 7,
     "metadata": {},
     "output_type": "execute_result"
    }
   ],
   "source": [
    "X.head()"
   ]
  },
  {
   "cell_type": "code",
   "execution_count": 7,
   "metadata": {},
   "outputs": [],
   "source": [
    "def getState(t):    \n",
    "    return(X['candle'][t])  "
   ]
  },
  {
   "cell_type": "code",
   "execution_count": 8,
   "metadata": {},
   "outputs": [],
   "source": [
    "class Agent:\n",
    "    def __init__(self):\n",
    "           \n",
    "        self.gamma = np.load('rl/gamma100.npy')\n",
    "        self.Q = np.load('rl/Qtable100.npy')\n",
    "        self.learning_rate=np.load('rl/learning_rate100.npy')\n",
    "        self.epsilon = np.load('rl/epsilon100.npy')\n",
    "        print(self.epsilon)\n",
    "    def getAction(self,state):\n",
    "        return np.argmax(self.Q[state,])  \n",
    "    \n",
    "    # Update Q(s,a):= Q(s,a) + lr [R(s,a) + gamma * max Q(s',a') - Q(s,a)]\n",
    "    def update(self,state,action,reward,next_state,next_action):\n",
    "            self.Q[state,action]= self.Q[state,action] + self.learning_rate * (reward + self.gamma * np.max(self.Q[next_state, :])\n",
    "                                                                - self.Q[state,action])\n",
    "\n",
    "        "
   ]
  },
  {
   "cell_type": "code",
   "execution_count": 9,
   "metadata": {
    "scrolled": true
   },
   "outputs": [
    {
     "name": "stdout",
     "output_type": "stream",
     "text": [
      "0.00998645168764533\n",
      "Episod 1/1\n",
      "\n",
      "***********************\n",
      "\n",
      "Profit is  12936.613420000067\n",
      "Initial Capital is  179776.50389999998\n",
      "Current Capital is  192713.11732000005\n",
      "%ROI is  7.195942261284606\n",
      "% Buy and Hold= -2.0428142278497163\n",
      "count 29\n",
      "qtable [[0.00585441 0.00809641 0.01015196]\n",
      " [0.00573818 0.00989568 0.00716493]\n",
      " [0.00558976 0.00691121 0.00947369]\n",
      " [0.00583713 0.00678079 0.0092166 ]\n",
      " [0.00557333 0.00716788 0.00884673]\n",
      " [0.00535027 0.00782478 0.01083407]]\n",
      "epsilon 0.00998645168764533\n",
      "--------------------------------\n",
      "e=1,roi=7.195942261284606\n"
     ]
    },
    {
     "name": "stderr",
     "output_type": "stream",
     "text": [
      "C:\\Users\\IIITNAGPUR\\AppData\\Local\\Temp\\ipykernel_19404\\1380074554.py:17: FutureWarning: Setting an item of incompatible dtype is deprecated and will raise an error in a future version of pandas. Value '179776.50389999998' has dtype incompatible with int64, please explicitly cast to a compatible dtype first.\n",
      "  X.loc[2,'cashopen']=margin\n",
      "C:\\Users\\IIITNAGPUR\\AppData\\Local\\Temp\\ipykernel_19404\\1380074554.py:35: FutureWarning: Setting an item of incompatible dtype is deprecated and will raise an error in a future version of pandas. Value '178238.85741' has dtype incompatible with int64, please explicitly cast to a compatible dtype first.\n",
      "  X.loc[t,'cash']=margin\n"
     ]
    }
   ],
   "source": [
    "episode_count=1\n",
    "agent=Agent()\n",
    "agent.Q\n",
    "m1=0\n",
    "m2=0\n",
    "for e in range(1,episode_count+1):\n",
    "    X=data1()\n",
    "    \n",
    "    data_length_start=2436\n",
    "    data_length=2466\n",
    "    state = getState(data_length_start-1)\n",
    "    action = agent.getAction(state)\n",
    "    \n",
    "  \n",
    "    capital=X.loc[data_length_start,'Open']*10\n",
    "    margin=X.loc[data_length_start,'Open']*10\n",
    "    X.loc[2,'cashopen']=margin \n",
    "    brok_rate=0.0000\n",
    "    #brok_rate=0.0\n",
    "    \n",
    "    print(\"Episod {}/{}\".format(e,episode_count))\n",
    "    count=0\n",
    "    for t in range(data_length_start,data_length-1):\n",
    "                \n",
    "        reward=0                        \n",
    "         \n",
    "        if action == 1:\n",
    "            X.loc[t,'cashopen']=margin \n",
    "            quantity=margin//X.loc[t,'Open']\n",
    "            X.loc[t,'quantity']=quantity\n",
    "            margin=margin%X.loc[t,'Open']\n",
    "            tbrokerage=(X.loc[t,'Open']+X.loc[t,'Close'])*brok_rate\n",
    "            tprofit=(X.loc[t,'Close']-X.loc[t,'Open']-tbrokerage)*quantity\n",
    "            margin=margin+tprofit+X.loc[t,'Open']*quantity\n",
    "            X.loc[t,'cash']=margin         \n",
    "            \n",
    "            #print('Long: open price @',X.loc[t,'Open'],'Close price @',X.loc[t,'Close'], 'profit=',tprofit)\n",
    "            X.loc[t,'action']=\"long\"\n",
    "            X.loc[t,'diff']=(X.loc[t,'Close']-X.loc[t,'Open']-tbrokerage)*quantity\n",
    "            count=count+1\n",
    "            reward= max((np.log(X.loc[t,'Close'])-np.log(X.loc[t,'Open']+tbrokerage)),0)\n",
    "       \n",
    "        elif action == 2:\n",
    "            X.loc[t,'cashopen']=margin \n",
    "            quantity=margin//X.loc[t,'Open']\n",
    "            X.loc[t,'quantity']=(-quantity)\n",
    "            margin=margin%X.loc[t,'Open']\n",
    "            tbrokerage=(X.loc[t,'Open']+X.loc[t,'Close'])*brok_rate\n",
    "            tprofit=(X.loc[t,'Open']-X.loc[t,'Close']-tbrokerage)*quantity\n",
    "            #print('in Short')\n",
    "            margin=margin+tprofit+X.loc[t,'Open']*quantity\n",
    "            X.loc[t,'cash']=margin         \n",
    "            last_action='Short'\n",
    "            #print('Short: Close price @',X.loc[t,'Close'],'Open price @',X.loc[t,'Open'], 'profit=',tprofit)\n",
    "            X.loc[t,'action']=\"short\"\n",
    "            X.loc[t,'diff']=(X.loc[t,'Open']-X.loc[t,'Close']-tbrokerage)*quantity\n",
    "            count=count+1\n",
    "            reward= max((np.log(X.loc[t,'Open'])-np.log(X.loc[t,'Close']+tbrokerage)),0)\n",
    "        else:\n",
    "            X.loc[t,'cash']=margin\n",
    "            X.loc[t,'action']=\"Hold\"\n",
    "            X.loc[t,'diff']=0\n",
    "            reward=0                                  \n",
    "              \n",
    "        next_state=getState(t)\n",
    "        next_action=agent.getAction(next_state)\n",
    "        agent.update(state,action,reward,next_state,next_action)\n",
    "        state=next_state\n",
    "        action=next_action\n",
    "        \n",
    "        if t==data_length-2:\n",
    "                print(\"\\n***********************\\n\")\n",
    "                print(\"Profit is \",(margin-capital))\n",
    "                print(\"Initial Capital is \",capital)    \n",
    "                print(\"Current Capital is \",margin)\n",
    "                roi=((margin-capital)/capital)*100\n",
    "                print(\"%ROI is \",roi)\n",
    "                bnh=((X.loc[t,'Close']-X.loc[data_length_start,'Open'])/X.loc[data_length_start,'Open'])*100\n",
    "                print(\"% Buy and Hold=\",bnh)\n",
    "                print(\"count\",count)\n",
    "                print(\"qtable\",agent.Q)\n",
    "                print(\"epsilon\",agent.epsilon)\n",
    "                print(\"--------------------------------\")\n",
    "                       \n",
    "       \n",
    "    \n",
    "    m3=roi\n",
    "    if m3>m2:\n",
    "        m1=e\n",
    "        m2=m3\n",
    "#To save model  \n",
    "if e%10==0:\n",
    "    np.save('rl/test/Qtable'+ str(e)+str('.npy'), agent.Q)\n",
    "    np.save('rl/test/epsilon'+ str(e)+str('.npy'), agent.epsilon)\n",
    "    np.save('rl/test/gamma'+ str(e)+str('.npy'), agent.gamma)\n",
    "    np.save('rl/test/learning_rate'+ str(e)+str('.npy'), agent.learning_rate)\n",
    "    X.to_csv('csv1/AfterTest'+str(e)+str('.csv'))\n",
    "print(\"e={},roi={}\".format(m1,m2))"
   ]
  },
  {
   "cell_type": "code",
   "execution_count": null,
   "metadata": {
    "scrolled": true
   },
   "outputs": [],
   "source": [
    "agent.Q"
   ]
  },
  {
   "cell_type": "code",
   "execution_count": null,
   "metadata": {},
   "outputs": [],
   "source": [
    "%matplotlib inline\n",
    "#%pylab inline\n",
    "fig = plt.figure()\n",
    "ax=X.loc[data_length_start:data_length-2,'cash'].plot(grid=\"True\",figsize=(10,5), title='Nifty')\n",
    "ax.set_xlabel(\"Trading Days\")\n",
    "ax.set_ylabel(\"cash\")\n",
    "plt.show()\n",
    "#fig.savefig('baroda_close.png')"
   ]
  },
  {
   "cell_type": "code",
   "execution_count": null,
   "metadata": {},
   "outputs": [],
   "source": []
  },
  {
   "cell_type": "code",
   "execution_count": null,
   "metadata": {},
   "outputs": [],
   "source": []
  },
  {
   "cell_type": "code",
   "execution_count": null,
   "metadata": {},
   "outputs": [],
   "source": []
  },
  {
   "cell_type": "code",
   "execution_count": null,
   "metadata": {},
   "outputs": [],
   "source": []
  },
  {
   "cell_type": "code",
   "execution_count": null,
   "metadata": {},
   "outputs": [],
   "source": []
  }
 ],
 "metadata": {
  "kernelspec": {
   "display_name": "Python 3 (ipykernel)",
   "language": "python",
   "name": "python3"
  },
  "language_info": {
   "codemirror_mode": {
    "name": "ipython",
    "version": 3
   },
   "file_extension": ".py",
   "mimetype": "text/x-python",
   "name": "python",
   "nbconvert_exporter": "python",
   "pygments_lexer": "ipython3",
   "version": "3.12.7"
  }
 },
 "nbformat": 4,
 "nbformat_minor": 4
}
