{
 "cells": [
  {
   "cell_type": "code",
   "execution_count": 1,
   "id": "6a60b81b-4bd7-4b5a-a825-e7a95a7f1a5b",
   "metadata": {},
   "outputs": [],
   "source": [
    "import pandas as pd\n",
    "import random\n",
    "import numpy as np\n",
    "import datetime\n",
    "import matplotlib.pyplot as plt\n",
    "import yfinance as yf\n",
    "import pandas_ta as ta"
   ]
  },
  {
   "cell_type": "code",
   "execution_count": 2,
   "id": "6d6fbd68-d3d1-4a1c-bbc2-ebfdb580f097",
   "metadata": {},
   "outputs": [],
   "source": [
    "# Define the Nifty 50 index symbol\n",
    "nifty50_symbol = \"^NSEI\"  # Symbol for Nifty 50 on Yahoo Finance\n",
    "# Define the date range for data download\n",
    "start_date = \"2013-01-21\"  # Start date (YYYY-MM-DD)\n",
    "end_date = \"2025-02-15\"    # End date (YYYY-MM-DD)"
   ]
  },
  {
   "cell_type": "code",
   "execution_count": 3,
   "id": "52b07692-b68f-4760-baf2-aa2a4eea6b49",
   "metadata": {},
   "outputs": [
    {
     "name": "stderr",
     "output_type": "stream",
     "text": [
      "[*********************100%***********************]  1 of 1 completed\n"
     ]
    }
   ],
   "source": [
    "# Download the data\n",
    "df = yf.download(nifty50_symbol, start=start_date, end=end_date)"
   ]
  },
  {
   "cell_type": "code",
   "execution_count": 4,
   "id": "21489d36-ee6d-441d-9639-58cfe8e2ccaf",
   "metadata": {},
   "outputs": [
    {
     "data": {
      "text/html": [
       "<div>\n",
       "<style scoped>\n",
       "    .dataframe tbody tr th:only-of-type {\n",
       "        vertical-align: middle;\n",
       "    }\n",
       "\n",
       "    .dataframe tbody tr th {\n",
       "        vertical-align: top;\n",
       "    }\n",
       "\n",
       "    .dataframe thead tr th {\n",
       "        text-align: left;\n",
       "    }\n",
       "\n",
       "    .dataframe thead tr:last-of-type th {\n",
       "        text-align: right;\n",
       "    }\n",
       "</style>\n",
       "<table border=\"1\" class=\"dataframe\">\n",
       "  <thead>\n",
       "    <tr>\n",
       "      <th>Price</th>\n",
       "      <th>Close</th>\n",
       "      <th>High</th>\n",
       "      <th>Low</th>\n",
       "      <th>Open</th>\n",
       "      <th>Volume</th>\n",
       "    </tr>\n",
       "    <tr>\n",
       "      <th>Ticker</th>\n",
       "      <th>^NSEI</th>\n",
       "      <th>^NSEI</th>\n",
       "      <th>^NSEI</th>\n",
       "      <th>^NSEI</th>\n",
       "      <th>^NSEI</th>\n",
       "    </tr>\n",
       "    <tr>\n",
       "      <th>Date</th>\n",
       "      <th></th>\n",
       "      <th></th>\n",
       "      <th></th>\n",
       "      <th></th>\n",
       "      <th></th>\n",
       "    </tr>\n",
       "  </thead>\n",
       "  <tbody>\n",
       "    <tr>\n",
       "      <th>2025-02-10</th>\n",
       "      <td>23381.599609</td>\n",
       "      <td>23568.599609</td>\n",
       "      <td>23316.300781</td>\n",
       "      <td>23543.800781</td>\n",
       "      <td>234200</td>\n",
       "    </tr>\n",
       "    <tr>\n",
       "      <th>2025-02-11</th>\n",
       "      <td>23071.800781</td>\n",
       "      <td>23390.050781</td>\n",
       "      <td>22986.650391</td>\n",
       "      <td>23383.550781</td>\n",
       "      <td>268000</td>\n",
       "    </tr>\n",
       "    <tr>\n",
       "      <th>2025-02-12</th>\n",
       "      <td>23045.250000</td>\n",
       "      <td>23144.699219</td>\n",
       "      <td>22798.349609</td>\n",
       "      <td>23050.800781</td>\n",
       "      <td>279700</td>\n",
       "    </tr>\n",
       "    <tr>\n",
       "      <th>2025-02-13</th>\n",
       "      <td>23031.400391</td>\n",
       "      <td>23235.500000</td>\n",
       "      <td>22992.199219</td>\n",
       "      <td>23055.750000</td>\n",
       "      <td>265700</td>\n",
       "    </tr>\n",
       "    <tr>\n",
       "      <th>2025-02-14</th>\n",
       "      <td>22929.250000</td>\n",
       "      <td>23133.699219</td>\n",
       "      <td>22774.849609</td>\n",
       "      <td>23096.449219</td>\n",
       "      <td>254500</td>\n",
       "    </tr>\n",
       "  </tbody>\n",
       "</table>\n",
       "</div>"
      ],
      "text/plain": [
       "Price              Close          High           Low          Open  Volume\n",
       "Ticker             ^NSEI         ^NSEI         ^NSEI         ^NSEI   ^NSEI\n",
       "Date                                                                      \n",
       "2025-02-10  23381.599609  23568.599609  23316.300781  23543.800781  234200\n",
       "2025-02-11  23071.800781  23390.050781  22986.650391  23383.550781  268000\n",
       "2025-02-12  23045.250000  23144.699219  22798.349609  23050.800781  279700\n",
       "2025-02-13  23031.400391  23235.500000  22992.199219  23055.750000  265700\n",
       "2025-02-14  22929.250000  23133.699219  22774.849609  23096.449219  254500"
      ]
     },
     "execution_count": 4,
     "metadata": {},
     "output_type": "execute_result"
    }
   ],
   "source": [
    "df.tail()"
   ]
  },
  {
   "cell_type": "code",
   "execution_count": 5,
   "id": "0f3725c4-7525-4ce9-b0bc-5afe5cc9a751",
   "metadata": {},
   "outputs": [],
   "source": [
    "# Convert index to datetime format if not already done\n",
    "df.index = pd.to_datetime(df.index, format='%d-%m-%Y')\n",
    "# Create 'date1' column as the same date from the index\n",
    "df['date'] = df.index\n",
    "# Extract weekday and month\n",
    "df['weekday'] = df.index.dayofweek  # Monday=0, Sunday=6\n",
    "df['month'] = df.index.month        # January=1, December=12"
   ]
  },
  {
   "cell_type": "code",
   "execution_count": 6,
   "id": "093a1ad3-f134-420f-9c6c-b3bdd8bea656",
   "metadata": {},
   "outputs": [],
   "source": [
    "#df.index = pd.to_datetime(df.index)\n",
    "df = df.reset_index(drop=True)\n",
    "df.to_csv('nifty.csv', index=True) "
   ]
  },
  {
   "cell_type": "markdown",
   "id": "d01b0628-c99e-4566-9dfe-ea8becfe3d93",
   "metadata": {},
   "source": [
    "Delete econd row in nifty.cv then upload it"
   ]
  },
  {
   "cell_type": "code",
   "execution_count": 7,
   "id": "b32e34b6-3d6f-4407-a15f-23345e5b61d6",
   "metadata": {},
   "outputs": [],
   "source": [
    "df = pd.read_csv('nifty.csv', index_col=0, low_memory=False)"
   ]
  },
  {
   "cell_type": "code",
   "execution_count": 8,
   "id": "5d00b225-0bba-45a6-aab9-cd65c37fddd1",
   "metadata": {},
   "outputs": [
    {
     "data": {
      "text/html": [
       "<div>\n",
       "<style scoped>\n",
       "    .dataframe tbody tr th:only-of-type {\n",
       "        vertical-align: middle;\n",
       "    }\n",
       "\n",
       "    .dataframe tbody tr th {\n",
       "        vertical-align: top;\n",
       "    }\n",
       "\n",
       "    .dataframe thead th {\n",
       "        text-align: right;\n",
       "    }\n",
       "</style>\n",
       "<table border=\"1\" class=\"dataframe\">\n",
       "  <thead>\n",
       "    <tr style=\"text-align: right;\">\n",
       "      <th></th>\n",
       "      <th>Close</th>\n",
       "      <th>High</th>\n",
       "      <th>Low</th>\n",
       "      <th>Open</th>\n",
       "      <th>Volume</th>\n",
       "      <th>date</th>\n",
       "      <th>weekday</th>\n",
       "      <th>month</th>\n",
       "    </tr>\n",
       "  </thead>\n",
       "  <tbody>\n",
       "    <tr>\n",
       "      <th>0</th>\n",
       "      <td>6082.299805</td>\n",
       "      <td>6094.350098</td>\n",
       "      <td>6065.100098</td>\n",
       "      <td>6085.750000</td>\n",
       "      <td>130900</td>\n",
       "      <td>21-01-2013</td>\n",
       "      <td>0</td>\n",
       "      <td>1</td>\n",
       "    </tr>\n",
       "    <tr>\n",
       "      <th>1</th>\n",
       "      <td>6048.500000</td>\n",
       "      <td>6101.299805</td>\n",
       "      <td>6040.500000</td>\n",
       "      <td>6080.149902</td>\n",
       "      <td>129000</td>\n",
       "      <td>22-01-2013</td>\n",
       "      <td>1</td>\n",
       "      <td>1</td>\n",
       "    </tr>\n",
       "    <tr>\n",
       "      <th>2</th>\n",
       "      <td>6054.299805</td>\n",
       "      <td>6069.799805</td>\n",
       "      <td>6021.149902</td>\n",
       "      <td>6052.850098</td>\n",
       "      <td>137000</td>\n",
       "      <td>23-01-2013</td>\n",
       "      <td>2</td>\n",
       "      <td>1</td>\n",
       "    </tr>\n",
       "    <tr>\n",
       "      <th>3</th>\n",
       "      <td>6019.350098</td>\n",
       "      <td>6065.299805</td>\n",
       "      <td>6007.850098</td>\n",
       "      <td>6046.200195</td>\n",
       "      <td>185200</td>\n",
       "      <td>24-01-2013</td>\n",
       "      <td>3</td>\n",
       "      <td>1</td>\n",
       "    </tr>\n",
       "    <tr>\n",
       "      <th>4</th>\n",
       "      <td>6074.649902</td>\n",
       "      <td>6080.549805</td>\n",
       "      <td>6014.450195</td>\n",
       "      <td>6024.500000</td>\n",
       "      <td>147600</td>\n",
       "      <td>25-01-2013</td>\n",
       "      <td>4</td>\n",
       "      <td>1</td>\n",
       "    </tr>\n",
       "  </tbody>\n",
       "</table>\n",
       "</div>"
      ],
      "text/plain": [
       "         Close         High          Low         Open  Volume        date  \\\n",
       "0  6082.299805  6094.350098  6065.100098  6085.750000  130900  21-01-2013   \n",
       "1  6048.500000  6101.299805  6040.500000  6080.149902  129000  22-01-2013   \n",
       "2  6054.299805  6069.799805  6021.149902  6052.850098  137000  23-01-2013   \n",
       "3  6019.350098  6065.299805  6007.850098  6046.200195  185200  24-01-2013   \n",
       "4  6074.649902  6080.549805  6014.450195  6024.500000  147600  25-01-2013   \n",
       "\n",
       "   weekday  month  \n",
       "0        0      1  \n",
       "1        1      1  \n",
       "2        2      1  \n",
       "3        3      1  \n",
       "4        4      1  "
      ]
     },
     "execution_count": 8,
     "metadata": {},
     "output_type": "execute_result"
    }
   ],
   "source": [
    "df.head()"
   ]
  },
  {
   "cell_type": "code",
   "execution_count": 9,
   "id": "8f98f075-a934-409b-b067-4840a5c4b270",
   "metadata": {},
   "outputs": [],
   "source": [
    "#df.index = pd.to_datetime(df.index)\n",
    "df = df.reset_index(drop=True)\n",
    "df.to_csv('nifty.csv', index=True) "
   ]
  },
  {
   "cell_type": "code",
   "execution_count": null,
   "id": "d223f5ff-78a0-44a9-9617-89d542a610b2",
   "metadata": {},
   "outputs": [],
   "source": []
  }
 ],
 "metadata": {
  "kernelspec": {
   "display_name": "Python 3 (ipykernel)",
   "language": "python",
   "name": "python3"
  },
  "language_info": {
   "codemirror_mode": {
    "name": "ipython",
    "version": 3
   },
   "file_extension": ".py",
   "mimetype": "text/x-python",
   "name": "python",
   "nbconvert_exporter": "python",
   "pygments_lexer": "ipython3",
   "version": "3.12.7"
  }
 },
 "nbformat": 4,
 "nbformat_minor": 5
}
